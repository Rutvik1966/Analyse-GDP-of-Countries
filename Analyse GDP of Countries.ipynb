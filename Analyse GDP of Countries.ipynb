{
 "cells": [
  {
   "cell_type": "markdown",
   "metadata": {},
   "source": [
    "# #Analyse GDP of Countries"
   ]
  },
  {
   "cell_type": "code",
   "execution_count": 16,
   "metadata": {},
   "outputs": [
    {
     "name": "stdout",
     "output_type": "stream",
     "text": [
      "[\"Algeria'\", \"'Angola'\", \"'Argentina'\", \"'Australia'\", \"'Austria'\", \"'Bahamas'\", \"'Bangladesh'\", \"'Belarus'\", \"'Belgium'\", \"'Bhutan'\", \"'Brazil'\", \"'Bulgaria'\", \"'Cambodia'\", \"'Cameroon'\", \"'Chile'\", \"'China'\", \"'Colombia'\", \"'Cyprus'\", \"'Denmark'\", \"'El Salvador'\", \"'Estonia'\", \"'Ethiopia'\", \"'Fiji'\", \"'Finland'\", \"'France'\", \"'Georgia'\", \"'Ghana'\", \"'Grenada'\", \"'Guinea'\", \"'Haiti'\", \"'Honduras'\", \"'Hungary'\", \"'India'\", \"'Indonesia'\", \"'Ireland'\", \"'Italy'\", \"'Japan'\", \"'Kenya'\", \" 'South Korea'\", \"'Liberia'\", \"'Malaysia'\", \"'Mexico'\", \" 'Morocco'\", \"'Nepal'\", \"'New Zealand'\", \"'Norway'\", \"'Pakistan'\", \" 'Peru'\", \"'Qatar'\", \"'Russia'\", \"'Singapore'\", \"'South Africa'\", \"'Spain'\", \"'Sweden'\", \"'Switzerland'\", \"'Thailand'\", \" 'United Arab Emirates'\", \"'United Kingdom'\", \"'United States'\", \"'Uruguay'\", \"'Venezuela'\", \"'Vietnam'\", \"'Zimbabwe'\"]\n"
     ]
    }
   ],
   "source": [
    "file=open('Countries with GDP.txt')\n",
    "country=file.read().split(\",\")\n",
    "country_name=country[1:64]\n",
    "print(country_name)\n",
    "\n"
   ]
  },
  {
   "cell_type": "code",
   "execution_count": 17,
   "metadata": {},
   "outputs": [
    {
     "name": "stdout",
     "output_type": "stream",
     "text": [
      "['2255.225482', '629.9553062', '11601.63022', '25306.82494', '27266.40335', '19466.99052', '588.3691778', '2890.345675', '24733.62696', '1445.760002', '4803.398244', '2618.876037', '590.4521124', '665.7982328', '7122.938458', '2639.54156', '3362.4656', '15378.16704', '30860.12808', '2579.115607', '6525.541272', '229.6769525', '2242.689259', '27570.4852', '23016.84778', '1334.646773', '402.6953275', '6047.200797', '394.1156638', '385.5793827', '1414.072488', '5745.981529', '837.7464011', '1206.991065', '27715.52837', '18937.24998', '39578.07441', '478.2194906', '16684.21278', '279.2204061', '5345.213415', '6288.25324', '1908.304416', '274.8728621', '14646.42094', '40034.85063', '672.1547506', '3359.517402', '36152.66676', '3054.727742', '33529.83052', '3825.093781', '15428.32098', '33630.24604', '39170.41371', '2699.123242', '21058.43643', '28272.40661', '37691.02733', '9581.05659', '5671.912202', '757.4009286', '347.7456605']\n"
     ]
    }
   ],
   "source": [
    "countrygdp=country[65:]\n",
    "print(countrygdp)"
   ]
  },
  {
   "cell_type": "code",
   "execution_count": 3,
   "metadata": {},
   "outputs": [
    {
     "name": "stdout",
     "output_type": "stream",
     "text": [
      "'Norway'\n"
     ]
    }
   ],
   "source": [
    "#finding the higehest gdp country\n",
    "\n",
    "import numpy as np\n",
    "country_name_arra=np.array(country_name)\n",
    "countrygdp=[float(x) for x in countrygdp]\n",
    "country_name_gdp=np.array(countrygdp)\n",
    "higest_gdp=max(country_name_gdp)\n",
    "length=len(country_name_gdp)\n",
    "cnt=0\n",
    "for x in range(length):\n",
    "    if(country_name_gdp[x]==higest_gdp):\n",
    "        print(country_name_arra[x])"
   ]
  },
  {
   "cell_type": "code",
   "execution_count": 4,
   "metadata": {},
   "outputs": [
    {
     "name": "stdout",
     "output_type": "stream",
     "text": [
      "'Ethiopia'\n"
     ]
    }
   ],
   "source": [
    "#finding the lowest gdp country\n",
    "\n",
    "import numpy as np\n",
    "country_name_arra=np.array(country_name)\n",
    "countrygdp=[float(x) for x in countrygdp]\n",
    "country_name_gdp=np.array(countrygdp)\n",
    "lowest_gdp=min(country_name_gdp)\n",
    "length=len(country_name_gdp)\n",
    "cnt=0\n",
    "for x in range(length):\n",
    "    if(country_name_gdp[x]==lowest_gdp):\n",
    "        print(country_name_arra[x])"
   ]
  },
  {
   "cell_type": "code",
   "execution_count": 5,
   "metadata": {},
   "outputs": [
    {
     "name": "stdout",
     "output_type": "stream",
     "text": [
      "ecaluating country Algeria'\n",
      "ecaluating country 'Angola'\n",
      "ecaluating country 'Argentina'\n",
      "ecaluating country 'Australia'\n",
      "ecaluating country 'Austria'\n",
      "ecaluating country 'Bahamas'\n",
      "ecaluating country 'Bangladesh'\n",
      "ecaluating country 'Belarus'\n",
      "ecaluating country 'Belgium'\n",
      "ecaluating country 'Bhutan'\n",
      "ecaluating country 'Brazil'\n",
      "ecaluating country 'Bulgaria'\n",
      "ecaluating country 'Cambodia'\n",
      "ecaluating country 'Cameroon'\n",
      "ecaluating country 'Chile'\n",
      "ecaluating country 'China'\n",
      "ecaluating country 'Colombia'\n",
      "ecaluating country 'Cyprus'\n",
      "ecaluating country 'Denmark'\n",
      "ecaluating country 'El Salvador'\n",
      "ecaluating country 'Estonia'\n",
      "ecaluating country 'Ethiopia'\n",
      "ecaluating country 'Fiji'\n",
      "ecaluating country 'Finland'\n",
      "ecaluating country 'France'\n",
      "ecaluating country 'Georgia'\n",
      "ecaluating country 'Ghana'\n",
      "ecaluating country 'Grenada'\n",
      "ecaluating country 'Guinea'\n",
      "ecaluating country 'Haiti'\n",
      "ecaluating country 'Honduras'\n",
      "ecaluating country 'Hungary'\n",
      "ecaluating country 'India'\n",
      "ecaluating country 'Indonesia'\n",
      "ecaluating country 'Ireland'\n",
      "ecaluating country 'Italy'\n",
      "ecaluating country 'Japan'\n",
      "ecaluating country 'Kenya'\n",
      "ecaluating country  'South Korea'\n",
      "ecaluating country 'Liberia'\n",
      "ecaluating country 'Malaysia'\n",
      "ecaluating country 'Mexico'\n",
      "ecaluating country  'Morocco'\n",
      "ecaluating country 'Nepal'\n",
      "ecaluating country 'New Zealand'\n",
      "ecaluating country 'Norway'\n",
      "ecaluating country 'Pakistan'\n",
      "ecaluating country  'Peru'\n",
      "ecaluating country 'Qatar'\n",
      "ecaluating country 'Russia'\n",
      "ecaluating country 'Singapore'\n",
      "ecaluating country 'South Africa'\n",
      "ecaluating country 'Spain'\n",
      "ecaluating country 'Sweden'\n",
      "ecaluating country 'Switzerland'\n",
      "ecaluating country 'Thailand'\n",
      "ecaluating country  'United Arab Emirates'\n",
      "ecaluating country 'United Kingdom'\n",
      "ecaluating country 'United States'\n",
      "ecaluating country 'Uruguay'\n",
      "ecaluating country 'Venezuela'\n",
      "ecaluating country 'Vietnam'\n",
      "ecaluating country 'Zimbabwe'\n"
     ]
    }
   ],
   "source": [
    "for i in range(length):\n",
    "    print(\"ecaluating country \"+country_name_arra[i])"
   ]
  },
  {
   "cell_type": "code",
   "execution_count": 8,
   "metadata": {},
   "outputs": [
    {
     "name": "stdout",
     "output_type": "stream",
     "text": [
      "country Algeria' per captia gdp is 2255.225482\n",
      "country 'Angola' per captia gdp is 629.9553062\n",
      "country 'Argentina' per captia gdp is 11601.63022\n",
      "country 'Australia' per captia gdp is 25306.82494\n",
      "country 'Austria' per captia gdp is 27266.40335\n",
      "country 'Bahamas' per captia gdp is 19466.99052\n",
      "country 'Bangladesh' per captia gdp is 588.3691778\n",
      "country 'Belarus' per captia gdp is 2890.345675\n",
      "country 'Belgium' per captia gdp is 24733.62696\n",
      "country 'Bhutan' per captia gdp is 1445.760002\n",
      "country 'Brazil' per captia gdp is 4803.398244\n",
      "country 'Bulgaria' per captia gdp is 2618.876037\n",
      "country 'Cambodia' per captia gdp is 590.4521124\n",
      "country 'Cameroon' per captia gdp is 665.7982328\n",
      "country 'Chile' per captia gdp is 7122.938458\n",
      "country 'China' per captia gdp is 2639.54156\n",
      "country 'Colombia' per captia gdp is 3362.4656\n",
      "country 'Cyprus' per captia gdp is 15378.16704\n",
      "country 'Denmark' per captia gdp is 30860.12808\n",
      "country 'El Salvador' per captia gdp is 2579.115607\n",
      "country 'Estonia' per captia gdp is 6525.541272\n",
      "country 'Ethiopia' per captia gdp is 229.6769525\n",
      "country 'Fiji' per captia gdp is 2242.689259\n",
      "country 'Finland' per captia gdp is 27570.4852\n",
      "country 'France' per captia gdp is 23016.84778\n",
      "country 'Georgia' per captia gdp is 1334.646773\n",
      "country 'Ghana' per captia gdp is 402.6953275\n",
      "country 'Grenada' per captia gdp is 6047.200797\n",
      "country 'Guinea' per captia gdp is 394.1156638\n",
      "country 'Haiti' per captia gdp is 385.5793827\n",
      "country 'Honduras' per captia gdp is 1414.072488\n",
      "country 'Hungary' per captia gdp is 5745.981529\n",
      "country 'India' per captia gdp is 837.7464011\n",
      "country 'Indonesia' per captia gdp is 1206.991065\n",
      "country 'Ireland' per captia gdp is 27715.52837\n",
      "country 'Italy' per captia gdp is 18937.24998\n",
      "country 'Japan' per captia gdp is 39578.07441\n",
      "country 'Kenya' per captia gdp is 478.2194906\n",
      "country  'South Korea' per captia gdp is 16684.21278\n",
      "country 'Liberia' per captia gdp is 279.2204061\n",
      "country 'Malaysia' per captia gdp is 5345.213415\n",
      "country 'Mexico' per captia gdp is 6288.25324\n",
      "country  'Morocco' per captia gdp is 1908.304416\n",
      "country 'Nepal' per captia gdp is 274.8728621\n",
      "country 'New Zealand' per captia gdp is 14646.42094\n",
      "country 'Norway' per captia gdp is 40034.85063\n",
      "country 'Pakistan' per captia gdp is 672.1547506\n",
      "country  'Peru' per captia gdp is 3359.517402\n",
      "country 'Qatar' per captia gdp is 36152.66676\n",
      "country 'Russia' per captia gdp is 3054.727742\n",
      "country 'Singapore' per captia gdp is 33529.83052\n",
      "country 'South Africa' per captia gdp is 3825.093781\n",
      "country 'Spain' per captia gdp is 15428.32098\n",
      "country 'Sweden' per captia gdp is 33630.24604\n",
      "country 'Switzerland' per captia gdp is 39170.41371\n",
      "country 'Thailand' per captia gdp is 2699.123242\n",
      "country  'United Arab Emirates' per captia gdp is 21058.43643\n",
      "country 'United Kingdom' per captia gdp is 28272.40661\n",
      "country 'United States' per captia gdp is 37691.02733\n",
      "country 'Uruguay' per captia gdp is 9581.05659\n",
      "country 'Venezuela' per captia gdp is 5671.912202\n",
      "country 'Vietnam' per captia gdp is 757.4009286\n",
      "country 'Zimbabwe' per captia gdp is 347.7456605\n"
     ]
    }
   ],
   "source": [
    "for i in range(length):\n",
    "    print(\"country \"+country_name_arra[i]+\" per captia gdp is \"+str(country_name_gdp[i]))"
   ]
  },
  {
   "cell_type": "code",
   "execution_count": 15,
   "metadata": {},
   "outputs": [
    {
     "name": "stdout",
     "output_type": "stream",
     "text": [
      "40034.85063\n",
      "229.6769525\n",
      "11289.409271639683\n",
      "12743.828910617945\n",
      "711232.7841133001\n"
     ]
    }
   ],
   "source": [
    "print(max(country_name_gdp))\n",
    "print(min(country_name_gdp))\n",
    "print(country_name_gdp.mean())\n",
    "print(country_name_gdp.std())\n",
    "print(sum(country_name_gdp))\n",
    "\n",
    "\n",
    "\n",
    "\n"
   ]
  },
  {
   "cell_type": "code",
   "execution_count": null,
   "metadata": {},
   "outputs": [],
   "source": []
  }
 ],
 "metadata": {
  "kernelspec": {
   "display_name": "Python 3",
   "language": "python",
   "name": "python3"
  },
  "language_info": {
   "codemirror_mode": {
    "name": "ipython",
    "version": 3
   },
   "file_extension": ".py",
   "mimetype": "text/x-python",
   "name": "python",
   "nbconvert_exporter": "python",
   "pygments_lexer": "ipython3",
   "version": "3.8.3"
  }
 },
 "nbformat": 4,
 "nbformat_minor": 4
}
